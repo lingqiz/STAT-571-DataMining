{
 "cells": [
  {
   "cell_type": "code",
   "execution_count": 1,
   "metadata": {},
   "outputs": [],
   "source": [
    "import torch\n",
    "import torchvision\n",
    "import torchvision.transforms as transforms\n",
    "\n",
    "import torch.nn as nn\n",
    "import torch.nn.functional as F\n",
    "import torch.optim as optim\n",
    "\n",
    "import numpy as np\n",
    "import kaydata\n",
    "import matplotlib.pyplot as plt\n",
    "\n",
    "from tqdm.notebook import tqdm"
   ]
  },
  {
   "cell_type": "code",
   "execution_count": 2,
   "metadata": {},
   "outputs": [],
   "source": [
    "data = kaydata.DataLoader(combine=True)"
   ]
  },
  {
   "cell_type": "markdown",
   "metadata": {},
   "source": [
    "## Training a neural network on image classification"
   ]
  },
  {
   "cell_type": "code",
   "execution_count": 3,
   "metadata": {},
   "outputs": [
    {
     "name": "stdout",
     "output_type": "stream",
     "text": [
      "Files already downloaded and verified\n",
      "Files already downloaded and verified\n"
     ]
    }
   ],
   "source": [
    "transform = transforms.Compose(\n",
    "    [transforms.ToTensor(),\n",
    "     transforms.Normalize((0.5, 0.5, 0.5), (0.5, 0.5, 0.5))])\n",
    "\n",
    "batch_size = 4\n",
    "\n",
    "trainset = torchvision.datasets.CIFAR10(root='./data', train=True, download=True, transform=transform)\n",
    "trainloader = torch.utils.data.DataLoader(trainset, batch_size=50000, shuffle=True, num_workers=2)\n",
    "\n",
    "testset = torchvision.datasets.CIFAR10(root='./data', train=False, download=True, transform=transform)\n",
    "testloader = torch.utils.data.DataLoader(testset, batch_size=10000, shuffle=False, num_workers=2)\n",
    "\n",
    "classes = ('plane', 'car', 'bird', 'cat',\n",
    "       'deer', 'dog', 'frog', 'horse', 'ship', 'truck')"
   ]
  },
  {
   "cell_type": "code",
   "execution_count": 4,
   "metadata": {},
   "outputs": [
    {
     "name": "stdout",
     "output_type": "stream",
     "text": [
      "N Train: torch.Size([50000, 3, 32, 32]), N Test: torch.Size([10000, 3, 32, 32])\n"
     ]
    }
   ],
   "source": [
    "X_train, y_train = next(iter(trainloader))\n",
    "X_test, y_test = next(iter(testloader))\n",
    "\n",
    "print(\"N Train: %s, N Test: %s\" % (X_train.shape, X_test.shape))"
   ]
  },
  {
   "cell_type": "code",
   "execution_count": 5,
   "metadata": {},
   "outputs": [
    {
     "name": "stdout",
     "output_type": "stream",
     "text": [
      "N Train: torch.Size([50000, 1, 32, 32]), N Test: torch.Size([10000, 1, 32, 32])\n"
     ]
    }
   ],
   "source": [
    "# Use grey scale images\n",
    "X_train = X_train.mean(dim=1).unsqueeze(1)\n",
    "X_test  = X_test.mean(dim=1).unsqueeze(1)\n",
    "\n",
    "print(\"N Train: %s, N Test: %s\" % (X_train.shape, X_test.shape))"
   ]
  },
  {
   "cell_type": "code",
   "execution_count": 6,
   "metadata": {},
   "outputs": [],
   "source": [
    "device = torch.device(\"cuda:0\" if torch.cuda.is_available() else \"cpu\")"
   ]
  },
  {
   "cell_type": "code",
   "execution_count": 7,
   "metadata": {},
   "outputs": [],
   "source": [
    "class Net(nn.Module):\n",
    "    def __init__(self):\n",
    "        super().__init__()\n",
    "        self.conv1 = nn.Conv2d(1, 16, 5)\n",
    "        self.pool = nn.MaxPool2d(2, 2)\n",
    "        self.conv2 = nn.Conv2d(16, 16, 6)\n",
    "        self.dropout = nn.Dropout(p = 0.55)\n",
    "        self.fc1 = nn.Linear(16 * 4 * 4, 120)\n",
    "        self.fc2 = nn.Linear(120, 84)\n",
    "        self.fc3 = nn.Linear(84, 10)\n",
    "\n",
    "    def forward(self, x):\n",
    "        x = self.pool(F.relu(self.conv1(x)))\n",
    "        x = self.pool(F.relu(self.conv2(x)))\n",
    "        x = x.view(-1, 16 * 4 * 4)\n",
    "        x = self.dropout(x)\n",
    "        x = F.relu(self.fc1(x))        \n",
    "        x = F.relu(self.fc2(x))\n",
    "        x = self.fc3(x)\n",
    "        return x\n",
    "\n",
    "network = Net().to(device)\n",
    "\n",
    "loss_func = nn.CrossEntropyLoss()\n",
    "optimizer = optim.Adam(network.parameters())"
   ]
  },
  {
   "cell_type": "code",
   "execution_count": 7,
   "metadata": {},
   "outputs": [],
   "source": [
    "class Net(nn.Module):    \n",
    "\n",
    "    def __init__(self):\n",
    "        \"\"\"CNN Builder.\"\"\"\n",
    "        super(Net, self).__init__()\n",
    "        \n",
    "        self.conv1 = nn.Sequential(\n",
    "            # Conv Layer block 1\n",
    "            nn.Conv2d(in_channels=1, out_channels=32, kernel_size=3, padding=1),\n",
    "            nn.BatchNorm2d(32),\n",
    "            nn.ReLU(inplace=True),\n",
    "            nn.Conv2d(in_channels=32, out_channels=64, kernel_size=3, padding=1),\n",
    "            nn.ReLU(inplace=True),\n",
    "            nn.MaxPool2d(kernel_size=2, stride=2)\n",
    "        )\n",
    "        \n",
    "        self.conv2 = nn.Sequential(\n",
    "            # Conv Layer block 2\n",
    "            nn.Conv2d(in_channels=64, out_channels=128, kernel_size=3, padding=1),\n",
    "            nn.BatchNorm2d(128),\n",
    "            nn.ReLU(inplace=True),\n",
    "            nn.Conv2d(in_channels=128, out_channels=128, kernel_size=3, padding=1),\n",
    "            nn.ReLU(inplace=True),\n",
    "            nn.MaxPool2d(kernel_size=2, stride=2),\n",
    "            nn.Dropout2d(p=0.1)\n",
    "        )\n",
    "        \n",
    "        self.conv3 = nn.Sequential(\n",
    "            # Conv Layer block 3\n",
    "            nn.Conv2d(in_channels=128, out_channels=256, kernel_size=3, padding=1),\n",
    "            nn.BatchNorm2d(256),\n",
    "            nn.ReLU(inplace=True),\n",
    "            nn.Conv2d(in_channels=256, out_channels=256, kernel_size=3, padding=1),\n",
    "            nn.ReLU(inplace=True),\n",
    "            nn.MaxPool2d(kernel_size=2, stride=2)\n",
    "        )\n",
    "        \n",
    "        self.fc_layer = nn.Sequential(\n",
    "            nn.Dropout(p=0.5),\n",
    "            nn.Linear(4096, 1024),\n",
    "            nn.ReLU(inplace=True),\n",
    "            nn.Linear(1024, 512),\n",
    "            nn.ReLU(inplace=True),\n",
    "            nn.Dropout(p=0.5),\n",
    "            nn.Linear(512, 10)\n",
    "        )\n",
    "\n",
    "    def forward(self, x):\n",
    "        \"\"\"Perform forward.\"\"\"\n",
    "        \n",
    "        # conv layers\n",
    "        x = self.conv3(self.conv2(self.conv1(x)))\n",
    "        \n",
    "        # flatten\n",
    "        x = x.view(x.size(0), -1)\n",
    "        # fc layer\n",
    "        x = self.fc_layer(x)\n",
    "\n",
    "        return x\n",
    "    \n",
    "network = Net().to(device)\n",
    "loss_func = nn.CrossEntropyLoss()\n",
    "optimizer = optim.AdamW(network.parameters(), weight_decay=0.05)"
   ]
  },
  {
   "cell_type": "code",
   "execution_count": 8,
   "metadata": {},
   "outputs": [],
   "source": [
    "train_data = X_train\n",
    "train_label = y_train\n",
    "\n",
    "test_data = X_test.to(device)\n",
    "test_label = y_test.to(device)"
   ]
  },
  {
   "cell_type": "code",
   "execution_count": 9,
   "metadata": {},
   "outputs": [
    {
     "data": {
      "application/vnd.jupyter.widget-view+json": {
       "model_id": "1afe52ee163245b3b26e398e286262f1",
       "version_major": 2,
       "version_minor": 0
      },
      "text/plain": [
       "  0%|          | 0/200 [00:00<?, ?it/s]"
      ]
     },
     "metadata": {},
     "output_type": "display_data"
    },
    {
     "name": "stdout",
     "output_type": "stream",
     "text": [
      "iter 0, train error: 1.53, test error: 1.20\n",
      "iter 20, train error: 0.27, test error: 0.51\n",
      "iter 40, train error: 0.15, test error: 0.58\n",
      "iter 60, train error: 0.12, test error: 0.58\n",
      "iter 80, train error: 0.10, test error: 0.60\n",
      "iter 100, train error: 0.10, test error: 0.60\n",
      "iter 120, train error: 0.09, test error: 0.61\n",
      "iter 140, train error: 0.08, test error: 0.56\n",
      "iter 160, train error: 0.08, test error: 0.70\n",
      "iter 180, train error: 0.08, test error: 0.59\n"
     ]
    }
   ],
   "source": [
    "n_epoch = 200\n",
    "batch_size = 128\n",
    "\n",
    "loss_tr = np.zeros(n_epoch)\n",
    "loss_vl = np.zeros(n_epoch)\n",
    "\n",
    "for epoch in tqdm(range(n_epoch)):    \n",
    "    # SGD training\n",
    "    network.train()\n",
    "    shuffle_idx = np.random.permutation(train_data.shape[0])\n",
    "    in_batches  = torch.split(train_data[shuffle_idx], batch_size)\n",
    "    label_batches = torch.split(train_label[shuffle_idx], batch_size)\n",
    "\n",
    "    loss_val = np.array([])\n",
    "    for in_batch, label_batch in zip(in_batches, label_batches):\n",
    "        optimizer.zero_grad()\n",
    "        output = network.forward(in_batch.to(device))\n",
    "\n",
    "        loss = loss_func(output, label_batch.to(device))\n",
    "        loss.backward()        \n",
    "        optimizer.step()\n",
    "        \n",
    "        loss_val = np.append(loss_val, loss.detach().cpu().numpy())        \n",
    "        \n",
    "    # evalulation\n",
    "    network.eval()\n",
    "    with torch.no_grad():        \n",
    "        loss_tr[epoch] = np.mean(loss_val)\n",
    "\n",
    "        output = network.forward(test_data)\n",
    "        loss_vl[epoch] = loss_func(output, test_label).cpu()\n",
    "        \n",
    "        if epoch % 20 == 0:\n",
    "            print(\"iter %d, train error: %.2f, test error: %.2f\" % \\\n",
    "                 (epoch, loss_tr[epoch], loss_vl[epoch]))\n",
    "        \n",
    "network = network.eval()"
   ]
  },
  {
   "cell_type": "code",
   "execution_count": 10,
   "metadata": {},
   "outputs": [
    {
     "data": {
      "image/png": "[encoded data removed]",
      "text/plain": [
       "<Figure size 576x576 with 16 Axes>"
      ]
     },
     "metadata": {
      "needs_background": "light"
     },
     "output_type": "display_data"
    }
   ],
   "source": [
    "fig, axs = plt.subplots(4, 4, figsize=(8, 8))\n",
    "conv_weights = network.conv1.weight.detach().cpu().numpy()\n",
    "for ax, idx in zip(axs.flat, range(16)):\n",
    "    ax.imshow(conv_weights[idx, :].reshape(5, 5), cmap=\"gray\")\n",
    "\n",
    "plt.show()"
   ]
  },
  {
   "cell_type": "code",
   "execution_count": 10,
   "metadata": {},
   "outputs": [],
   "source": [
    "network = network.cpu()\n",
    "test_data = test_data.cpu()\n",
    "test_label = test_label.cpu()"
   ]
  },
  {
   "cell_type": "code",
   "execution_count": 11,
   "metadata": {},
   "outputs": [
    {
     "data": {
      "text/plain": [
       "0.8548"
      ]
     },
     "execution_count": 11,
     "metadata": {},
     "output_type": "execute_result"
    }
   ],
   "source": [
    "# Final accuracy on test set\n",
    "test_output = network.forward(test_data)\n",
    "loss_func(test_output, test_label).cpu()\n",
    "\n",
    "output = torch.argmax(test_output.cpu(), dim=1).numpy()\n",
    "label = test_label.cpu().numpy()\n",
    "np.mean(output == label)"
   ]
  },
  {
   "cell_type": "code",
   "execution_count": 13,
   "metadata": {},
   "outputs": [],
   "source": [
    "# Save trained network\n",
    "torch.save(network.state_dict(), './simple_cnn.pt')"
   ]
  },
  {
   "cell_type": "code",
   "execution_count": 12,
   "metadata": {},
   "outputs": [],
   "source": [
    "# Save trained network\n",
    "torch.save(network.state_dict(), './large_cnn.pt')"
   ]
  },
  {
   "cell_type": "markdown",
   "metadata": {},
   "source": [
    "## Use network to predict voxel responses"
   ]
  },
  {
   "cell_type": "code",
   "execution_count": 13,
   "metadata": {},
   "outputs": [],
   "source": [
    "import cv2\n",
    "import numpy as np\n",
    "from sklearn import linear_model\n",
    "\n",
    "import warnings\n",
    "warnings.filterwarnings('ignore')"
   ]
  },
  {
   "cell_type": "code",
   "execution_count": 14,
   "metadata": {},
   "outputs": [],
   "source": [
    "targetSize = (32, 32)\n",
    "stimuli = data.stimuli\n",
    "stimuli_ = np.zeros([stimuli.shape[0], 32, 32])\n",
    "for idx in range(stimuli.shape[0]):\n",
    "    stimuli_[idx, :] = cv2.resize(stimuli[idx, :], targetSize)\n",
    "    \n",
    "stimuli = stimuli_"
   ]
  },
  {
   "cell_type": "code",
   "execution_count": 15,
   "metadata": {},
   "outputs": [
    {
     "data": {
      "image/png": "[encoded data removed]",
      "text/plain": [
       "<Figure size 720x360 with 8 Axes>"
      ]
     },
     "metadata": {
      "needs_background": "light"
     },
     "output_type": "display_data"
    }
   ],
   "source": [
    "shuffle_idx = np.random.permutation(stimuli.shape[0])\n",
    "fig, axs = plt.subplots(2, 4, figsize=(10, 5), sharex=True, sharey=True)\n",
    "for ax, im in zip(axs.flat, stimuli[shuffle_idx, :]):\n",
    "    ax.imshow(im, cmap=\"gray\")\n",
    "\n",
    "fig.tight_layout()"
   ]
  },
  {
   "cell_type": "markdown",
   "metadata": {},
   "source": [
    "### Smaller Network"
   ]
  },
  {
   "cell_type": "code",
   "execution_count": 77,
   "metadata": {},
   "outputs": [
    {
     "data": {
      "text/plain": [
       "(1870, 256)"
      ]
     },
     "execution_count": 77,
     "metadata": {},
     "output_type": "execute_result"
    }
   ],
   "source": [
    "# Extract features\n",
    "stim_input = torch.from_numpy(stimuli.astype(np.float32)).unsqueeze(1)\n",
    "\n",
    "# cnn_feature = network.conv1(torch.from_numpy(stimuli.astype(np.float32)).unsqueeze(1))\n",
    "cnn_feature = network.pool(F.relu(network.conv1(stim_input)))\n",
    "cnn_feature = network.pool(F.relu(network.conv2(cnn_feature)))\n",
    "cnn_feature = cnn_feature.view(cnn_feature.size(0), -1).detach().numpy()\n",
    "\n",
    "cnn_feature.shape"
   ]
  },
  {
   "cell_type": "code",
   "execution_count": 81,
   "metadata": {},
   "outputs": [],
   "source": [
    "n_test = 100\n",
    "n_val = 0\n",
    "shuffle_idx = np.random.permutation(cnn_feature.shape[0])\n",
    "\n",
    "feature_train, feature_test, feature_val = \\\n",
    "    kaydata.DataLoader.split_data(cnn_feature, n_test, n_val, shuffle_idx)\n",
    "\n",
    "response_train, response_test, response_val = \\\n",
    "    kaydata.DataLoader.split_data(data.select_roi(['V1', 'V2']), n_test, n_val, shuffle_idx)\n"
   ]
  },
  {
   "cell_type": "code",
   "execution_count": 82,
   "metadata": {},
   "outputs": [
    {
     "data": {
      "image/png": "[encoded data removed]",
      "text/plain": [
       "<Figure size 432x288 with 1 Axes>"
      ]
     },
     "metadata": {
      "needs_background": "light"
     },
     "output_type": "display_data"
    }
   ],
   "source": [
    "# Ridge Regression\n",
    "alphas = np.logspace(2, 4, 25)\n",
    "\n",
    "lm = linear_model.Ridge(alpha=1.0)\n",
    "\n",
    "train_errors = list()\n",
    "test_errors = list()\n",
    "\n",
    "for alpha in alphas:\n",
    "    lm.set_params(alpha=alpha)\n",
    "    lm.fit(feature_train, response_train)\n",
    "    train_errors.append(lm.score(feature_train, response_train))\n",
    "    test_errors.append(lm.score(feature_test, response_test))\n",
    "    \n",
    "fig, ax = plt.subplots()\n",
    "\n",
    "ax.semilogx(alphas, train_errors, label=\"train\")\n",
    "ax.semilogx(alphas, test_errors, label=\"test\")\n",
    "ax.legend()\n",
    "plt.show()"
   ]
  },
  {
   "cell_type": "markdown",
   "metadata": {},
   "source": [
    "### Large Network"
   ]
  },
  {
   "cell_type": "markdown",
   "metadata": {},
   "source": [
    "#### Late Layers for V4?"
   ]
  },
  {
   "cell_type": "code",
   "execution_count": 93,
   "metadata": {},
   "outputs": [],
   "source": [
    "lyrs = []\n",
    "for idx, lyr in enumerate(network.fc_layer):\n",
    "    lyrs.append(lyr)"
   ]
  },
  {
   "cell_type": "code",
   "execution_count": 94,
   "metadata": {},
   "outputs": [
    {
     "data": {
      "text/plain": [
       "[Dropout(p=0.5, inplace=False),\n",
       " Linear(in_features=4096, out_features=1024, bias=True),\n",
       " ReLU(inplace=True),\n",
       " Linear(in_features=1024, out_features=512, bias=True),\n",
       " ReLU(inplace=True),\n",
       " Dropout(p=0.5, inplace=False),\n",
       " Linear(in_features=512, out_features=10, bias=True)]"
      ]
     },
     "execution_count": 94,
     "metadata": {},
     "output_type": "execute_result"
    }
   ],
   "source": [
    "lyrs"
   ]
  },
  {
   "cell_type": "code",
   "execution_count": 96,
   "metadata": {},
   "outputs": [
    {
     "data": {
      "text/plain": [
       "(1870, 1024)"
      ]
     },
     "execution_count": 96,
     "metadata": {},
     "output_type": "execute_result"
    }
   ],
   "source": [
    "stim_input = torch.from_numpy(stimuli.astype(np.float32)).unsqueeze(1)\n",
    "features = network.conv3(network.conv2(network.conv1(stim_input)))\n",
    "features = lyrs[1](features.view(features.size(0), -1)).detach().numpy()\n",
    "\n",
    "features.shape"
   ]
  },
  {
   "cell_type": "code",
   "execution_count": 108,
   "metadata": {},
   "outputs": [],
   "source": [
    "n_test = 100\n",
    "n_val = 0\n",
    "shuffle_idx = np.random.permutation(features.shape[0])\n",
    "\n",
    "feature_train, feature_test, feature_val = \\\n",
    "    kaydata.DataLoader.split_data(features, n_test, n_val, shuffle_idx)\n",
    "\n",
    "response_train, response_test, response_val = \\\n",
    "    kaydata.DataLoader.split_data(data.select_roi(['V4', 'LatOcc']), n_test, n_val, shuffle_idx)"
   ]
  },
  {
   "cell_type": "code",
   "execution_count": 110,
   "metadata": {},
   "outputs": [
    {
     "data": {
      "image/png": "[encoded data removed]",
      "text/plain": [
       "<Figure size 432x288 with 1 Axes>"
      ]
     },
     "metadata": {
      "needs_background": "light"
     },
     "output_type": "display_data"
    }
   ],
   "source": [
    "# Ridge Regression\n",
    "alphas = np.logspace(1, 5, 25)\n",
    "\n",
    "lm = linear_model.Ridge(alpha=1.0)\n",
    "\n",
    "train_errors = list()\n",
    "test_errors = list()\n",
    "\n",
    "for alpha in alphas:\n",
    "    lm.set_params(alpha=alpha)\n",
    "    lm.fit(feature_train, response_train)\n",
    "    train_errors.append(lm.score(feature_train, response_train))\n",
    "    test_errors.append(lm.score(feature_test, response_test))\n",
    "    \n",
    "# Plot model performance\n",
    "fig, ax = plt.subplots()\n",
    "\n",
    "ax.semilogx(alphas, train_errors, label=\"train\")\n",
    "ax.semilogx(alphas, test_errors, label=\"test\")\n",
    "ax.legend()\n",
    "plt.show()"
   ]
  },
  {
   "cell_type": "markdown",
   "metadata": {},
   "source": [
    "#### V1, V2 Prediction"
   ]
  },
  {
   "cell_type": "code",
   "execution_count": 149,
   "metadata": {},
   "outputs": [
    {
     "data": {
      "text/plain": [
       "(1870, 12288)"
      ]
     },
     "execution_count": 149,
     "metadata": {},
     "output_type": "execute_result"
    }
   ],
   "source": [
    "stim_input = torch.from_numpy(stimuli.astype(np.float32)).unsqueeze(1)\n",
    "feature_1 = network.conv2(network.conv1(stim_input))\n",
    "feature_1 = feature_1.view(feature_1.size(0), -1).detach().numpy()\n",
    "\n",
    "feature_2 = network.conv3(network.conv2(network.conv1(stim_input)))\n",
    "feature_2 = feature_2.view(feature_2.size(0), -1).detach().numpy()\n",
    "\n",
    "features = np.concatenate((feature_1, feature_2), axis=1)\n",
    "features.shape"
   ]
  },
  {
   "cell_type": "code",
   "execution_count": 150,
   "metadata": {},
   "outputs": [],
   "source": [
    "n_test = 100\n",
    "n_val = 0\n",
    "shuffle_idx = np.random.permutation(features.shape[0])\n",
    "\n",
    "feature_train, feature_test, feature_val = \\\n",
    "    kaydata.DataLoader.split_data(features, n_test, n_val, shuffle_idx)\n",
    "\n",
    "response_train, response_test, response_val = \\\n",
    "    kaydata.DataLoader.split_data(data.select_roi(['V1', 'V2']), n_test, n_val, shuffle_idx)"
   ]
  },
  {
   "cell_type": "code",
   "execution_count": 151,
   "metadata": {},
   "outputs": [
    {
     "data": {
      "image/png": "[encoded data removed]",
      "text/plain": [
       "<Figure size 432x288 with 1 Axes>"
      ]
     },
     "metadata": {
      "needs_background": "light"
     },
     "output_type": "display_data"
    }
   ],
   "source": [
    "# Ridge Regression\n",
    "alphas = np.logspace(2, 4, 25)\n",
    "\n",
    "lm = linear_model.Ridge(alpha=1.0)\n",
    "\n",
    "train_errors = list()\n",
    "test_errors = list()\n",
    "\n",
    "for alpha in alphas:\n",
    "    lm.set_params(alpha=alpha)\n",
    "    lm.fit(feature_train, response_train)\n",
    "    train_errors.append(lm.score(feature_train, response_train))\n",
    "    test_errors.append(lm.score(feature_test, response_test))\n",
    "    \n",
    "# Plot model performance\n",
    "fig, ax = plt.subplots()\n",
    "\n",
    "ax.semilogx(alphas, train_errors, label=\"train\")\n",
    "ax.semilogx(alphas, test_errors, label=\"test\")\n",
    "ax.legend()\n",
    "plt.show()"
   ]
  },
  {
   "cell_type": "code",
   "execution_count": 153,
   "metadata": {},
   "outputs": [
    {
     "data": {
      "text/plain": [
       "[-0.0057469932275172175,\n",
       " -9.668383666039416e-05,\n",
       " 0.004496138859208981,\n",
       " 0.008139015729811822,\n",
       " 0.010932631323297462,\n",
       " 0.01297121858064868,\n",
       " 0.014343099075423,\n",
       " 0.015131145096679224,\n",
       " 0.015413080094681019,\n",
       " 0.015261580078555024,\n",
       " 0.014744246574857895,\n",
       " 0.013923567241465653,\n",
       " 0.012856967699298642,\n",
       " 0.011597040625221136,\n",
       " 0.010191929180007556,\n",
       " 0.008685793404614374,\n",
       " 0.007119204850570765,\n",
       " 0.005529335001047096,\n",
       " 0.003949854324560725,\n",
       " 0.002410542215255069,\n",
       " 0.0009367404111663879,\n",
       " -0.00045118682643108244,\n",
       " -0.0017382098598219579,\n",
       " -0.002914667313283036,\n",
       " -0.003975961989242766]"
      ]
     },
     "execution_count": 153,
     "metadata": {},
     "output_type": "execute_result"
    }
   ],
   "source": [
    "test_errors"
   ]
  }
 ],
 "metadata": {
  "kernelspec": {
   "display_name": "Python 3",
   "language": "python",
   "name": "python3"
  },
  "language_info": {
   "codemirror_mode": {
    "name": "ipython",
    "version": 3
   },
   "file_extension": ".py",
   "mimetype": "text/x-python",
   "name": "python",
   "nbconvert_exporter": "python",
   "pygments_lexer": "ipython3",
   "version": "3.8.5"
  }
 },
 "nbformat": 4,
 "nbformat_minor": 4
}
